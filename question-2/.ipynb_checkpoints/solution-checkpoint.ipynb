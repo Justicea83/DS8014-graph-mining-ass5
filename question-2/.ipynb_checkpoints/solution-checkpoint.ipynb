{
 "cells": [
  {
   "cell_type": "code",
   "execution_count": 1,
   "id": "3d3d58ee-3f32-4a77-898e-3becf866f680",
   "metadata": {},
   "outputs": [],
   "source": [
    "import igraph as ig\n",
    "import numpy as np\n",
    "import ensembleclustering as CE\n",
    "from sklearn.metrics import adjusted_mutual_info_score\n",
    "import pandas as pd\n",
    "from joblib import Parallel, delayed\n",
    "import multiprocessing\n",
    "from tqdm import tqdm"
   ]
  },
  {
   "cell_type": "code",
   "execution_count": 2,
   "id": "78f9dd77-21f9-4611-8a63-ae80391bd891",
   "metadata": {},
   "outputs": [],
   "source": [
    "# Load GitHub ML Graph Data\n",
    "edges = pd.read_csv(\"musae_git_edges.csv\")\n",
    "nodes = pd.read_csv(\"musae_git_target.csv\")"
   ]
  },
  {
   "cell_type": "code",
   "execution_count": 3,
   "id": "1678e9b0-a3db-4a1f-93cc-201b74573408",
   "metadata": {},
   "outputs": [],
   "source": [
    "# Create Graph from Edge List\n",
    "g = ig.Graph.TupleList(edges.itertuples(index=False), directed=False)\n",
    "\n",
    "# Mapping Node IDs\n",
    "id_map = {node: idx for idx, node in enumerate(nodes['id'])}\n",
    "nodes['graph_idx'] = nodes['id'].map(id_map)\n",
    "\n",
    "def compute_ami(partition1, partition2):\n",
    "    return adjusted_mutual_info_score(partition1.membership, partition2.membership)"
   ]
  },
  {
   "cell_type": "code",
   "execution_count": null,
   "id": "7fb36c6d-49f0-428d-8ac2-c95f1689013b",
   "metadata": {},
   "outputs": [],
   "source": [
    "# Define clustering functions for parallel execution\n",
    "def run_louvain():\n",
    "    return g.community_multilevel()\n",
    "\n",
    "def run_leiden():\n",
    "    return g.community_leiden(objective_function='modularity')\n",
    "\n",
    "def run_infomap():\n",
    "    return g.community_infomap()\n",
    "\n",
    "def run_label_propagation():\n",
    "    return g.community_label_propagation()\n",
    "\n",
    "def run_girvan_newman():\n",
    "    hierarchy = g.community_edge_betweenness()\n",
    "    return hierarchy.as_clustering(n=2)\n",
    "\n",
    "def run_fastgreedy():\n",
    "    hierarchy = g.community_fastgreedy()\n",
    "    return hierarchy.as_clustering()\n",
    "\n",
    "# Run clustering methods in parallel\n",
    "num_cores = min(multiprocessing.cpu_count(), 6)  # Use up to 6 cores\n",
    "results = Parallel(n_jobs=num_cores)(\n",
    "    delayed(func)() for func in [\n",
    "        run_louvain,\n",
    "        run_leiden,\n",
    "        run_infomap,\n",
    "        run_label_propagation,\n",
    "        run_girvan_newman,\n",
    "        run_fastgreedy\n",
    "    ]\n",
    ")"
   ]
  },
  {
   "cell_type": "code",
   "execution_count": null,
   "id": "30796e45-ace7-42d9-870b-4c78f640a9af",
   "metadata": {},
   "outputs": [],
   "source": [
    "# Assign results\n",
    "louvain_partition, leiden_partition, infomap_partition, lp_partition, gn_partition, cnm_partition = results\n",
    "\n",
    "# ECG using ClusterEnsembles\n",
    "labels_louvain = np.array(louvain_partition.membership)\n",
    "labels_infomap = np.array(infomap_partition.membership)\n",
    "labels_lp = np.array(lp_partition.membership)\n",
    "\n",
    "# Parallelizing the ensemble clustering\n",
    "base_clusterings = np.array([labels_louvain, labels_infomap, labels_lp])\n",
    "\n",
    "def run_consensus_clustering():\n",
    "    return CE.cluster_ensembles(base_clusterings, verbose=True, nclass=5)\n",
    "\n",
    "# Run consensus clustering in parallel\n",
    "consensus_labels = Parallel(n_jobs=1)(delayed(run_consensus_clustering)())[0]"
   ]
  },
  {
   "cell_type": "code",
   "execution_count": null,
   "id": "175c95e7-7569-49c2-9893-0ccd7b030302",
   "metadata": {},
   "outputs": [],
   "source": [
    "# Store partitions\n",
    "partitions = {\n",
    "    \"ECG\": consensus_labels,\n",
    "    \"Leiden\": leiden_partition,\n",
    "    \"Louvain\": louvain_partition,\n",
    "    \"Infomap\": infomap_partition,\n",
    "    \"Label Propagation\": lp_partition,\n",
    "    \"Girvan-Newman\": gn_partition,\n",
    "    \"CNM\": cnm_partition\n",
    "}"
   ]
  },
  {
   "cell_type": "code",
   "execution_count": null,
   "id": "a8f8f849-8518-4d6f-ae99-cfe4ae21f54f",
   "metadata": {},
   "outputs": [],
   "source": [
    "partitions"
   ]
  },
  {
   "cell_type": "code",
   "execution_count": null,
   "id": "4c1bf3ec-ff23-47c7-8c74-5b4b8ef3f5e1",
   "metadata": {},
   "outputs": [],
   "source": [
    "# Prepare pairs for parallel processing\n",
    "partition_pairs = [(name1, part1, name2, part2) for (name1, part1), (name2, part2) in combinations(partitions.items(), 2)]\n",
    "\n",
    "# Use parallel processing for AMI computation\n",
    "num_cores = multiprocessing.cpu_count()  # Detect available CPU cores\n",
    "ami_results = Parallel(n_jobs=num_cores)(delayed(compute_ami)(pair) for pair in partition_pairs)\n",
    "\n",
    "# Convert results to a dictionary\n",
    "ami_scores = dict(ami_results)\n",
    "\n",
    "# Print results\n",
    "for key, value in ami_scores.items():\n",
    "    print(f\"{key}: {round(value, 3)}\")"
   ]
  }
 ],
 "metadata": {
  "kernelspec": {
   "display_name": "Capstone Torch",
   "language": "python",
   "name": "capstone"
  },
  "language_info": {
   "codemirror_mode": {
    "name": "ipython",
    "version": 3
   },
   "file_extension": ".py",
   "mimetype": "text/x-python",
   "name": "python",
   "nbconvert_exporter": "python",
   "pygments_lexer": "ipython3",
   "version": "3.12.1"
  }
 },
 "nbformat": 4,
 "nbformat_minor": 5
}
