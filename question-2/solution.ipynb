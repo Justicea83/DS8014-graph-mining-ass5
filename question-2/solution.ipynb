{
 "cells": [
  {
   "cell_type": "code",
   "execution_count": 20,
   "id": "3d3d58ee-3f32-4a77-898e-3becf866f680",
   "metadata": {},
   "outputs": [],
   "source": [
    "import igraph as ig\n",
    "import numpy as np\n",
    "import ensembleclustering as CE\n",
    "from sklearn.metrics import adjusted_mutual_info_score\n",
    "import pandas as pd\n",
    "from itertools import combinations"
   ]
  },
  {
   "cell_type": "code",
   "execution_count": 2,
   "id": "78f9dd77-21f9-4611-8a63-ae80391bd891",
   "metadata": {},
   "outputs": [],
   "source": [
    "# Load GitHub ML Graph Data\n",
    "edges = pd.read_csv(\"musae_git_edges.csv\")\n",
    "nodes = pd.read_csv(\"musae_git_target.csv\")"
   ]
  },
  {
   "cell_type": "code",
   "execution_count": 3,
   "id": "1678e9b0-a3db-4a1f-93cc-201b74573408",
   "metadata": {},
   "outputs": [],
   "source": [
    "# Create Graph from Edge List\n",
    "g = ig.Graph.TupleList(edges.itertuples(index=False), directed=False)\n",
    "\n",
    "# Mapping Node IDs\n",
    "id_map = {node: idx for idx, node in enumerate(nodes['id'])}\n",
    "nodes['graph_idx'] = nodes['id'].map(id_map)\n",
    "\n",
    "def compute_ami(partition1, partition2):\n",
    "    return adjusted_mutual_info_score(partition1.membership, partition2.membership)"
   ]
  },
  {
   "cell_type": "markdown",
   "id": "a2d2f2d3-3ea4-4e0c-8f8e-84f94a2795ab",
   "metadata": {},
   "source": [
    "### Clustering Algorithms"
   ]
  },
  {
   "cell_type": "code",
   "execution_count": 6,
   "id": "d6970f78-42bf-44d0-992f-64c8e24624df",
   "metadata": {},
   "outputs": [
    {
     "name": "stdout",
     "output_type": "stream",
     "text": [
      "Running Louvain...\n"
     ]
    }
   ],
   "source": [
    "print(\"Running Louvain...\")\n",
    "louvain_partition = g.community_multilevel()"
   ]
  },
  {
   "cell_type": "code",
   "execution_count": 7,
   "id": "a2c341aa-b17f-4f6f-a944-285be980fd6f",
   "metadata": {},
   "outputs": [
    {
     "name": "stdout",
     "output_type": "stream",
     "text": [
      "Running Leiden...\n"
     ]
    }
   ],
   "source": [
    "print(\"Running Leiden...\")\n",
    "leiden_partition = g.community_leiden(objective_function='modularity')"
   ]
  },
  {
   "cell_type": "code",
   "execution_count": 8,
   "id": "7aaebde6-6330-4ef3-b88f-10d67db79081",
   "metadata": {},
   "outputs": [
    {
     "name": "stdout",
     "output_type": "stream",
     "text": [
      "Running Infomap...\n"
     ]
    }
   ],
   "source": [
    "print(\"Running Infomap...\")\n",
    "infomap_partition = g.community_infomap()"
   ]
  },
  {
   "cell_type": "code",
   "execution_count": 9,
   "id": "82c3628a-cfaa-4524-9abd-28aeee79d0d2",
   "metadata": {},
   "outputs": [
    {
     "name": "stdout",
     "output_type": "stream",
     "text": [
      "Running Label Propagation...\n"
     ]
    }
   ],
   "source": [
    "print(\"Running Label Propagation...\")\n",
    "lp_partition = g.community_label_propagation()"
   ]
  },
  {
   "cell_type": "code",
   "execution_count": 10,
   "id": "6ff2d979-b83a-4541-b39c-cb4c25d8e191",
   "metadata": {},
   "outputs": [
    {
     "name": "stdout",
     "output_type": "stream",
     "text": [
      "Running CNM...\n"
     ]
    }
   ],
   "source": [
    "print(\"Running CNM...\")\n",
    "cnm_hierarchy = g.community_fastgreedy()\n",
    "cnm_partition = cnm_hierarchy.as_clustering()"
   ]
  },
  {
   "cell_type": "markdown",
   "id": "59eaa7a1-ecf2-46a1-bac0-77f212b59b61",
   "metadata": {},
   "source": [
    "#### Too slow so I skipped"
   ]
  },
  {
   "cell_type": "code",
   "execution_count": 13,
   "id": "3e8bfd28-41f5-4ab0-bf67-aa2e7f017b29",
   "metadata": {},
   "outputs": [],
   "source": [
    "#print(\"Running Girvan-Newman...\")\n",
    "#gn_hierarchy = g.community_edge_betweenness()\n",
    "#gn_partition = gn_hierarchy.as_clustering(n=2)"
   ]
  },
  {
   "cell_type": "code",
   "execution_count": 11,
   "id": "b7426ad2-9d83-4903-be87-522ec6bc41e9",
   "metadata": {},
   "outputs": [
    {
     "name": "stdout",
     "output_type": "stream",
     "text": [
      "Running ECG (ClusterEnsembles)...\n",
      "Cluster Ensembles\n",
      "    - number of classes: 5\n",
      "    - solver: hbgf\n",
      "    - length of base clustering labels: 37700\n",
      "    - number of base clusters: 3\n"
     ]
    }
   ],
   "source": [
    "print(\"Running ECG (ClusterEnsembles)...\")\n",
    "labels_louvain = louvain_partition.membership\n",
    "labels_infomap = infomap_partition.membership\n",
    "labels_lp = lp_partition.membership\n",
    "base_clusterings = np.array([labels_louvain, labels_infomap, labels_lp])\n",
    "consensus_labels = CE.cluster_ensembles(base_clusterings, verbose=True, nclass=5)"
   ]
  },
  {
   "cell_type": "code",
   "execution_count": 14,
   "id": "996183dd-8548-4d11-a042-926fb20b42e8",
   "metadata": {},
   "outputs": [],
   "source": [
    "# Convert ECG to dummy clustering object\n",
    "class DummyPartition:\n",
    "    def __init__(self, labels):\n",
    "        self.membership = labels\n",
    "\n",
    "# Create dummy partition for ECG\n",
    "ecg_partition = DummyPartition(consensus_labels)"
   ]
  },
  {
   "cell_type": "code",
   "execution_count": 16,
   "id": "077a28f2-f48e-441c-ae58-9737bad4b3a4",
   "metadata": {},
   "outputs": [],
   "source": [
    "partitions = {\n",
    "    \"ECG\": ecg_partition,\n",
    "    \"Leiden\": leiden_partition,\n",
    "    \"Louvain\": louvain_partition,\n",
    "    \"Infomap\": infomap_partition,\n",
    "    \"Label Propagation\": lp_partition,\n",
    "    #\"Girvan-Newman\": gn_partition,\n",
    "    \"CNM\": cnm_partition\n",
    "}"
   ]
  },
  {
   "cell_type": "code",
   "execution_count": 22,
   "id": "4c1bf3ec-ff23-47c7-8c74-5b4b8ef3f5e1",
   "metadata": {},
   "outputs": [
    {
     "name": "stdout",
     "output_type": "stream",
     "text": [
      "ECG vs Leiden: 0.314\n",
      "ECG vs Louvain: 0.446\n",
      "ECG vs Infomap: 0.382\n",
      "ECG vs Label Propagation: 0.001\n",
      "ECG vs CNM: 0.207\n",
      "Leiden vs Louvain: 0.553\n",
      "Leiden vs Infomap: 0.348\n",
      "Leiden vs Label Propagation: 0.006\n",
      "Leiden vs CNM: 0.304\n",
      "Louvain vs Infomap: 0.328\n",
      "Louvain vs Label Propagation: 0.006\n",
      "Louvain vs CNM: 0.295\n",
      "Infomap vs Label Propagation: 0.002\n",
      "Infomap vs CNM: 0.29\n",
      "Label Propagation vs CNM: 0.013\n"
     ]
    }
   ],
   "source": [
    "# Compute AMI scores for each pair of clustering algorithms\n",
    "ami_scores = {}\n",
    "for (name1, part1), (name2, part2) in combinations(partitions.items(), 2):\n",
    "    ami_scores[f\"{name1} vs {name2}\"] = compute_ami(part1, part2)\n",
    "\n",
    "# Print results\n",
    "for key, value in ami_scores.items():\n",
    "    print(f\"{key}: {round(value, 3)}\")"
   ]
  },
  {
   "cell_type": "code",
   "execution_count": null,
   "id": "995ae8f7-a692-42cf-8fa8-c8dae8f3d7bc",
   "metadata": {},
   "outputs": [],
   "source": []
  }
 ],
 "metadata": {
  "kernelspec": {
   "display_name": "Capstone Torch",
   "language": "python",
   "name": "capstone"
  },
  "language_info": {
   "codemirror_mode": {
    "name": "ipython",
    "version": 3
   },
   "file_extension": ".py",
   "mimetype": "text/x-python",
   "name": "python",
   "nbconvert_exporter": "python",
   "pygments_lexer": "ipython3",
   "version": "3.12.1"
  }
 },
 "nbformat": 4,
 "nbformat_minor": 5
}
