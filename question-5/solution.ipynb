{
 "cells": [
  {
   "cell_type": "code",
   "execution_count": 1,
   "id": "5936475e-39bc-470f-b492-2e07de634385",
   "metadata": {},
   "outputs": [],
   "source": [
    "import igraph as ig\n",
    "import numpy as np\n",
    "import matplotlib.pyplot as plt"
   ]
  },
  {
   "cell_type": "code",
   "execution_count": 3,
   "id": "6648a1b5-7cce-4526-8d3c-3d0558f73e78",
   "metadata": {},
   "outputs": [],
   "source": [
    "# 1) Read the ABCD graph and ground-truth community labels\n",
    "#    (Adjust paths as needed for your environment.)\n",
    "g = ig.Graph.Read_Ncol('abcd_100.dat', directed=False)\n",
    "\n",
    "# Load community assignments (1-based -> shift to 0-based)\n",
    "c = np.loadtxt('abcd_100_comms.dat', dtype='uint16', usecols=(1))\n",
    "c -= 1  # now zero-based\n",
    "\n",
    "# Attach community labels to each vertex\n",
    "# The graph node 'name' might be a string: convert to int index if necessary\n",
    "# to match 'c'\n",
    "g.vs['comm'] = [c[int(v['name']) - 1] for v in g.vs]"
   ]
  },
  {
   "cell_type": "code",
   "execution_count": 4,
   "id": "40019b72-8cb0-4a0f-86d5-4bd2415d3651",
   "metadata": {},
   "outputs": [],
   "source": [
    "# First we need the community sizes and adjacency checks\n",
    "num_comms = len(set(g.vs['comm']))\n",
    "\n",
    "# Precompute the deg_int for each vertex:\n",
    "# deg_int[v] = number of neighbors of v that are in v's own community\n",
    "deg_int = [0]*g.vcount()\n",
    "# Also keep track of deg_c[v][i] = number of neighbors of v in comm i (for p(v))\n",
    "deg_c = [ [0]*num_comms for _ in range(g.vcount()) ]\n",
    "\n",
    "for v in range(g.vcount()):\n",
    "    v_comm = g.vs[v]['comm']\n",
    "    nbrs = g.neighbors(v)\n",
    "    for nbr in nbrs:\n",
    "        nbr_comm = g.vs[nbr]['comm']\n",
    "        deg_c[v][nbr_comm] += 1\n",
    "    deg_int[v] = deg_c[v][v_comm]"
   ]
  },
  {
   "cell_type": "code",
   "execution_count": 5,
   "id": "9f22bd95-ef7d-4102-9e58-07a6745bb146",
   "metadata": {},
   "outputs": [],
   "source": [
    "# For each community i, compute the mean and std of deg_int among nodes in i\n",
    "mean_int = [0]*num_comms\n",
    "std_int  = [0]*num_comms\n",
    "comm_nodes = [[] for _ in range(num_comms)]\n",
    "\n",
    "for v in range(g.vcount()):\n",
    "    comm_nodes[g.vs[v]['comm']].append(v)\n",
    "\n",
    "for i in range(num_comms):\n",
    "    di_vals = [deg_int[v] for v in comm_nodes[i]]\n",
    "    if len(di_vals) > 1:\n",
    "        mean_int[i] = np.mean(di_vals)\n",
    "        std_int[i]  = np.std(di_vals, ddof=1)  # sample std\n",
    "    else:\n",
    "        # If there's only one node, z(v) = 0 by definition\n",
    "        mean_int[i] = di_vals[0] if di_vals else 0\n",
    "        std_int[i]  = 1.0   # avoid zero division"
   ]
  },
  {
   "cell_type": "code",
   "execution_count": 6,
   "id": "9c293b44-f6a2-4e37-b6de-2673c344fc24",
   "metadata": {},
   "outputs": [],
   "source": [
    "# Now compute z(v) and p(v) for each vertex\n",
    "zvals = [0]*g.vcount()\n",
    "pvals = [0]*g.vcount()\n",
    "\n",
    "for v in range(g.vcount()):\n",
    "    cidx = g.vs[v]['comm']\n",
    "    deg_in_community = deg_int[v]\n",
    "    mu  = mean_int[cidx]\n",
    "    std = std_int[cidx] if std_int[cidx] > 0 else 1.0\n",
    "    zvals[v] = (deg_in_community - mu) / std\n",
    "\n",
    "    dv = g.degree(v)\n",
    "    if dv == 0:\n",
    "        pvals[v] = 0.0\n",
    "    else:\n",
    "        # p(v) = 1 - sum( ( deg_c[v][i] / dv )^2 ) over i\n",
    "        frac_sums = 0.0\n",
    "        for i in range(num_comms):\n",
    "            if deg_c[v][i] > 0:\n",
    "                frac_sums += (deg_c[v][i]/dv)**2\n",
    "        pvals[v] = 1.0 - frac_sums\n",
    "\n",
    "g.vs['z'] = zvals\n",
    "g.vs['p'] = pvals"
   ]
  },
  {
   "cell_type": "code",
   "execution_count": 7,
   "id": "6485df9b-8a7c-42b2-b145-7f19d144fb5b",
   "metadata": {},
   "outputs": [],
   "source": [
    "# 3) Classify each node into its role family\n",
    "#    ---------------------------------------\n",
    "#    Non-hubs (z < 2.5):\n",
    "#       ultra-peripheral: p < 0.05\n",
    "#       peripheral:       0.05 <= p < 0.62\n",
    "#       connector:        0.62 <= p < 0.80\n",
    "#       kinless:          p >= 0.80\n",
    "#\n",
    "#    Hubs (z >= 2.5):\n",
    "#       provincial hubs:  p < 0.30\n",
    "#       connector hubs:   0.30 <= p < 0.75\n",
    "#       kinless hubs:     p >= 0.75\n",
    "\n",
    "roles = []\n",
    "for v in range(g.vcount()):\n",
    "    z = zvals[v]\n",
    "    p = pvals[v]\n",
    "    if z < 2.5:\n",
    "        # non-hub\n",
    "        if p < 0.05:\n",
    "            roles.append('Ultra-peripheral')\n",
    "        elif p < 0.62:\n",
    "            roles.append('Peripheral')\n",
    "        elif p < 0.80:\n",
    "            roles.append('Connector')\n",
    "        else:\n",
    "            roles.append('Kinless')\n",
    "    else:\n",
    "        # hub\n",
    "        if p < 0.30:\n",
    "            roles.append('Provincial hub')\n",
    "        elif p < 0.75:\n",
    "            roles.append('Connector hub')\n",
    "        else:\n",
    "            roles.append('Kinless hub')\n",
    "\n",
    "g.vs['role'] = roles"
   ]
  },
  {
   "cell_type": "code",
   "execution_count": 8,
   "id": "578eb75c-bb3f-4f7a-aafc-29e5c5639d3f",
   "metadata": {},
   "outputs": [
    {
     "name": "stdout",
     "output_type": "stream",
     "text": [
      "Role counts:\n",
      "  Ultra-peripheral: 18\n",
      "  Peripheral: 81\n",
      "  Provincial hub: 1\n"
     ]
    }
   ],
   "source": [
    "# 4) Count how many nodes are in each family\n",
    "#    ---------------------------------------\n",
    "from collections import Counter\n",
    "role_counts = Counter(roles)\n",
    "\n",
    "# Print out the role counts\n",
    "print(\"Role counts:\")\n",
    "for rname, cnt in role_counts.items():\n",
    "    print(f\"  {rname}: {cnt}\")"
   ]
  },
  {
   "cell_type": "code",
   "execution_count": 9,
   "id": "cadc46e0-a3b3-41d2-838a-b6bcf9f397fd",
   "metadata": {},
   "outputs": [
    {
     "data": {
      "image/png": "[encoded data removed]",
      "text/plain": [
       "<Figure size 600x400 with 1 Axes>"
      ]
     },
     "metadata": {},
     "output_type": "display_data"
    }
   ],
   "source": [
    "# 5) Plot (z(v), p(v)) scores for all nodes\n",
    "#    --------------------------------------\n",
    "plt.figure(figsize=(6, 4))\n",
    "for rname in role_counts.keys():\n",
    "    # pick indices for this role\n",
    "    idxs = [v.index for v in g.vs if v['role'] == rname]\n",
    "    zplot = [zvals[i] for i in idxs]\n",
    "    pplot = [pvals[i] for i in idxs]\n",
    "    plt.scatter(zplot, pplot, label=rname, alpha=0.7)\n",
    "\n",
    "plt.axvline(x=2.5, color='gray', linestyle='--', lw=1)\n",
    "plt.xlabel(\"z(v)\")\n",
    "plt.ylabel(\"p(v)\")\n",
    "plt.title(\"Roles in ABCD Graph (z-p plane)\")\n",
    "plt.legend(bbox_to_anchor=(1.05, 1), loc='upper left')\n",
    "plt.tight_layout()\n",
    "plt.show()"
   ]
  },
  {
   "cell_type": "code",
   "execution_count": null,
   "id": "d5af8db4-d223-46dc-9a7b-256d918460f5",
   "metadata": {},
   "outputs": [],
   "source": []
  }
 ],
 "metadata": {
  "kernelspec": {
   "display_name": "Capstone Torch",
   "language": "python",
   "name": "capstone"
  },
  "language_info": {
   "codemirror_mode": {
    "name": "ipython",
    "version": 3
   },
   "file_extension": ".py",
   "mimetype": "text/x-python",
   "name": "python",
   "nbconvert_exporter": "python",
   "pygments_lexer": "ipython3",
   "version": "3.12.1"
  }
 },
 "nbformat": 4,
 "nbformat_minor": 5
}
