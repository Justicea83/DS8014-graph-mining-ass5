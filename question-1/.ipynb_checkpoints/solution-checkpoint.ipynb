{
 "cells": [
  {
   "cell_type": "code",
   "execution_count": 1,
   "id": "5efdb06d-9de9-43c8-9870-8533277f543f",
   "metadata": {},
   "outputs": [],
   "source": [
    "import igraph as ig\n",
    "import numpy as np\n",
    "import ensembleclustering as CE\n",
    "from sklearn.metrics import adjusted_mutual_info_score"
   ]
  },
  {
   "cell_type": "code",
   "execution_count": 2,
   "id": "9b4ed26c-f601-48ec-8e0f-ea64717c432a",
   "metadata": {},
   "outputs": [],
   "source": [
    "#%pip install git+https://github.com/mful/ClusterEnsembles.git"
   ]
  },
  {
   "cell_type": "code",
   "execution_count": 3,
   "id": "0416a052-ab4b-48ca-8deb-681d7d5d47cf",
   "metadata": {},
   "outputs": [],
   "source": [
    "# Load Zachary's Karate Club Graph\n",
    "z = ig.Graph.Famous(\"Zachary\")\n",
    "\n",
    "# Ground-truth communities (predefined two-group split)\n",
    "ground_truth = [0,0,0,0,0,0,0,0,1,1,\n",
    "                0,0,0,0,1,1,0,0,1,0,\n",
    "                1,0,1,1,1,1,1,1,1,1,\n",
    "                1,1,1,1]\n",
    "\n",
    "def compute_ami(partition, true_labels):\n",
    "    return adjusted_mutual_info_score(true_labels, partition.membership)"
   ]
  },
  {
   "cell_type": "code",
   "execution_count": 5,
   "id": "9858cf45-7646-465a-8cd3-ac0967d147c7",
   "metadata": {},
   "outputs": [
    {
     "name": "stdout",
     "output_type": "stream",
     "text": [
      "Cluster Ensembles\n",
      "    - number of classes: 5\n",
      "    - solver: hbgf\n",
      "    - length of base clustering labels: 34\n",
      "    - number of base clusters: 3\n"
     ]
    }
   ],
   "source": [
    "# --- 1) Louvain ---\n",
    "louvain_partition = z.community_multilevel()\n",
    "ami_louvain = compute_ami(louvain_partition, ground_truth)\n",
    "\n",
    "# --- 2) Leiden ---\n",
    "leiden_partition = z.community_leiden(objective_function='modularity')\n",
    "ami_leiden = compute_ami(leiden_partition, ground_truth)\n",
    "\n",
    "# --- 3) Infomap ---\n",
    "infomap_partition = z.community_infomap()\n",
    "ami_infomap = compute_ami(infomap_partition, ground_truth)\n",
    "\n",
    "# --- 4) Label Propagation ---\n",
    "lp_partition = z.community_label_propagation()\n",
    "ami_lp = compute_ami(lp_partition, ground_truth)\n",
    "\n",
    "# --- 5) Girvan-Newman (Edge Betweenness) ---\n",
    "gn_hierarchy = z.community_edge_betweenness()\n",
    "gn_partition = gn_hierarchy.as_clustering(n=2)\n",
    "ami_gn = compute_ami(gn_partition, ground_truth)\n",
    "\n",
    "# --- 6) CNM (Clauset-Newman-Moore, \"fastgreedy\") ---\n",
    "cnm_hierarchy = z.community_fastgreedy()\n",
    "cnm_partition = cnm_hierarchy.as_clustering()\n",
    "ami_cnm = compute_ami(cnm_partition, ground_truth)\n",
    "\n",
    "# --- 7) ECG using ClusterEnsembles ---\n",
    "# Generate multiple base clusterings\n",
    "labels_louvain = louvain_partition.membership\n",
    "labels_infomap = infomap_partition.membership\n",
    "labels_lp = lp_partition.membership\n",
    "\n",
    "# Combine base clusterings\n",
    "base_clusterings = np.array([labels_louvain, labels_infomap, labels_lp])\n",
    "\n",
    "# Perform ensemble clustering\n",
    "consensus_labels = CE.cluster_ensembles(base_clusterings, verbose=True, nclass=5)\n",
    "\n",
    "# Compute AMI for ECG\n",
    "ami_ecg = adjusted_mutual_info_score(ground_truth, consensus_labels)"
   ]
  },
  {
   "cell_type": "code",
   "execution_count": 6,
   "id": "7f822e32-010a-4c3c-b451-9fdc99d49e0d",
   "metadata": {},
   "outputs": [
    {
     "name": "stdout",
     "output_type": "stream",
     "text": [
      "ECG AMI:            0.433\n",
      "Leiden AMI:         0.671\n",
      "Louvain AMI:        0.565\n",
      "Infomap AMI:        0.687\n",
      "LabelProp AMI:      0.708\n",
      "Girvan-Newman AMI:  0.833\n",
      "CNM AMI:            0.681\n"
     ]
    }
   ],
   "source": [
    "# Print Results\n",
    "print(\"ECG AMI:           \", round(ami_ecg, 3))\n",
    "print(\"Leiden AMI:        \", round(ami_leiden, 3))\n",
    "print(\"Louvain AMI:       \", round(ami_louvain, 3))\n",
    "print(\"Infomap AMI:       \", round(ami_infomap, 3))\n",
    "print(\"LabelProp AMI:     \", round(ami_lp, 3))\n",
    "print(\"Girvan-Newman AMI: \", round(ami_gn, 3))\n",
    "print(\"CNM AMI:           \", round(ami_cnm, 3))"
   ]
  },
  {
   "cell_type": "code",
   "execution_count": null,
   "id": "4094323e-97c3-4629-b706-30260f5d4467",
   "metadata": {},
   "outputs": [],
   "source": []
  }
 ],
 "metadata": {
  "kernelspec": {
   "display_name": "Capstone Torch",
   "language": "python",
   "name": "capstone"
  },
  "language_info": {
   "codemirror_mode": {
    "name": "ipython",
    "version": 3
   },
   "file_extension": ".py",
   "mimetype": "text/x-python",
   "name": "python",
   "nbconvert_exporter": "python",
   "pygments_lexer": "ipython3",
   "version": "3.12.1"
  }
 },
 "nbformat": 4,
 "nbformat_minor": 5
}
